{
 "cells": [
  {
   "cell_type": "code",
   "execution_count": 1,
   "metadata": {},
   "outputs": [
    {
     "name": "stderr",
     "output_type": "stream",
     "text": [
      "/home/channel/miniconda3/envs/pz/lib/python3.12/site-packages/tqdm/auto.py:21: TqdmWarning: IProgress not found. Please update jupyter and ipywidgets. See https://ipywidgets.readthedocs.io/en/stable/user_install.html\n",
      "  from .autonotebook import tqdm as notebook_tqdm\n"
     ]
    }
   ],
   "source": [
    "import dspy\n",
    "from dspy import InputField, OutputField, Signature\n",
    "from dspy.functional import TypedPredictor\n",
    "import pydantic\n",
    "from dspy import Example\n",
    "from dspy.evaluate.evaluate import Evaluate\n",
    "from dspy.teleprompt.random_search import BootstrapFewShotWithRandomSearch\n"
   ]
  },
  {
   "cell_type": "code",
   "execution_count": 2,
   "metadata": {},
   "outputs": [
    {
     "data": {
      "text/plain": [
       "True"
      ]
     },
     "execution_count": 2,
     "metadata": {},
     "output_type": "execute_result"
    }
   ],
   "source": [
    "from dotenv import load_dotenv\n",
    "\n",
    "load_dotenv()"
   ]
  },
  {
   "cell_type": "markdown",
   "metadata": {},
   "source": [
    "see https://chatgpt.com/share/cbecf607-78fb-484e-a3fb-788caae8dba9"
   ]
  },
  {
   "cell_type": "code",
   "execution_count": 7,
   "metadata": {},
   "outputs": [],
   "source": [
    "from pydantic import BaseModel, Field\n",
    "from typing import Optional\n",
    "\n",
    "# 🛠️ ClassComponent — Represents a single class extracted from the Python file\n",
    "class ClassComponent(BaseModel):\n",
    "    class_name: str = Field(..., description=\"Name of the extracted Python class.\")\n",
    "    class_code: str = Field(..., description=\"The full code of the extracted class.\")\n"
   ]
  },
  {
   "cell_type": "code",
   "execution_count": 8,
   "metadata": {},
   "outputs": [],
   "source": [
    "# 🕵️ ClassExtraction — Extracts class definitions from the Python code\n",
    "class ClassExtraction(dspy.Signature):\n",
    "    file_content: str = dspy.InputField(desc=\"Full content of the Python file as a string.\")\n",
    "    classes: list[ClassComponent] = dspy.OutputField(desc=\"Extracted classes with names and code snippets.\")\n",
    "\n",
    "# 🔍 ClassVerification — Verifies the syntax of each extracted class\n",
    "class ClassVerification(dspy.Signature):\n",
    "    class_code: str = dspy.InputField(desc=\"Code of a single Python class.\")\n",
    "    is_valid: bool = dspy.OutputField(desc=\"Boolean indicating if the class is valid Python syntax.\")\n",
    "    error_message: Optional[str] = dspy.OutputField(desc=\"Error message if the class is invalid.\")\n",
    "    \n",
    "# 🛠️ ClassReformatting — Reformats verified classes into dspy.Modules\n",
    "class ClassReformatting(dspy.Signature):\n",
    "    class_name: str = dspy.InputField(desc=\"Name of the Python class.\")\n",
    "    class_code: str = dspy.InputField(desc=\"Code of the Python class.\")\n",
    "    dspy_module_code: str = dspy.OutputField(desc=\"Reformatted code of the class as a dspy.Module.\")\n"
   ]
  },
  {
   "cell_type": "code",
   "execution_count": 24,
   "metadata": {},
   "outputs": [],
   "source": [
    "from dspy.predict.avatar import Avatar\n",
    "\n",
    "\n",
    "# 📜 ClassExtractor — Extracts classes from the Python file content\n",
    "class ClassExtractor(dspy.Module):\n",
    "    def __init__(self):\n",
    "        self.extract_classes = Avatar(ClassExtraction, tools=[])\n",
    "\n",
    "    def forward(self, file_content: str):\n",
    "        result = self.extract_classes(file_content=file_content)\n",
    "        # 🔍 Suggest: Make sure we have extracted some classes\n",
    "        dspy.Suggest(len(result.classes) > 0, \"No classes found in the file content. Check your extraction logic.\")\n",
    "        return result\n",
    "\n",
    "# ✅ ClassVerifier — Verifies each extracted class for valid Python syntax\n",
    "class ClassVerifier(dspy.Module):\n",
    "    def __init__(self):\n",
    "        self.verify_class = dspy.ChainOfThought(ClassVerification)\n",
    "\n",
    "    def forward(self, class_code: str):\n",
    "        result = self.verify_class(class_code=class_code)\n",
    "        # ❌ Suggest: Handle invalid classes with detailed feedback\n",
    "        if not result.is_valid:\n",
    "            dspy.Suggest(False, f\"Class verification failed: {result.error_message}. Check class syntax.\")\n",
    "        return result\n",
    "\n",
    "# 🛠️ ClassFormatter — Reformats verified classes into dspy.Module format\n",
    "class ClassFormatter(dspy.Module):\n",
    "    def __init__(self):\n",
    "        self.reformat_class = dspy.ChainOfThought(ClassReformatting)\n",
    "\n",
    "    def forward(self, class_name: str, class_code: str):\n",
    "        result = self.reformat_class(class_name=class_name, class_code=class_code)\n",
    "        # 📝 Suggest: Ensure the reformatting meets dspy.Module standards\n",
    "        dspy.Suggest(\"dspy.Module\" in result.dspy_module_code, \"Reformatted class should be a valid dspy.Module.\")\n",
    "        return result\n",
    "\n",
    "# 🎯 ClassProcessor — Main module that orchestrates extraction, verification, and reformatting\n",
    "class ClassProcessor(dspy.Module):\n",
    "    def __init__(self):\n",
    "        self.extractor = ClassExtractor()\n",
    "        self.verifier = ClassVerifier()\n",
    "        self.formatter = ClassFormatter()\n",
    "\n",
    "    def forward(self, file_content: str):\n",
    "        # 📜 Step 1: Extract classes from the file\n",
    "        extraction_result = self.extractor.forward(file_content=file_content)\n",
    "        class_components = extraction_result.classes\n",
    "\n",
    "        verified_classes = []\n",
    "        for class_component in class_components:\n",
    "            # ✅ Step 2: Verify the class syntax\n",
    "            verification_result = self.verifier.forward(class_code=class_component.class_code)\n",
    "            if verification_result.is_valid:\n",
    "                # 🛠️ Step 3: Reformat into dspy.Module if verification passed\n",
    "                reformat_result = self.formatter.forward(\n",
    "                    class_name=class_component.class_name,\n",
    "                    class_code=class_component.class_code\n",
    "                )\n",
    "                verified_classes.append(reformat_result.dspy_module_code)\n",
    "            else:\n",
    "                # Handle invalid classes — optionally log or discard\n",
    "                print(f\"Skipping invalid class: {class_component.class_name} - {verification_result.error_message}\")\n",
    "\n",
    "        # 🛑 Assert: Ensure we have at least one valid reformatted class\n",
    "        dspy.Assert(len(verified_classes) > 0, \"No valid dspy.Modules generated from the file content.\")\n",
    "        return dspy.Prediction(verified_modules=verified_classes)\n"
   ]
  },
  {
   "cell_type": "code",
   "execution_count": 10,
   "metadata": {},
   "outputs": [],
   "source": [
    "gpt4omini = dspy.OpenAI(model='gpt-4o-mini', max_tokens=250)\n",
    "\n",
    "ollama_local = dspy.OllamaLocal(model=\"llama3.1:8b\")\n",
    "\n",
    "dspy.settings.configure(lm=gpt4omini)"
   ]
  },
  {
   "cell_type": "code",
   "execution_count": 22,
   "metadata": {},
   "outputs": [
    {
     "data": {
      "text/plain": [
       "50392"
      ]
     },
     "execution_count": 22,
     "metadata": {},
     "output_type": "execute_result"
    }
   ],
   "source": [
    "DSPY_SAMPLE_CODE_DIRTY = \"\\n\".join(open('./DSPY_SAMPLE_CODE_DIRTY.txt').readlines())\n",
    "len(DSPY_SAMPLE_CODE_DIRTY)\n"
   ]
  },
  {
   "cell_type": "code",
   "execution_count": 25,
   "metadata": {},
   "outputs": [
    {
     "ename": "ValueError",
     "evalue": "('Too many retries trying to get the correct output format. Try simplifying the requirements.', {'classes': 'ValueError(\"Don\\'t write anything after the final json ```\")'})",
     "output_type": "error",
     "traceback": [
      "\u001b[0;31m---------------------------------------------------------------------------\u001b[0m",
      "\u001b[0;31mValueError\u001b[0m                                Traceback (most recent call last)",
      "Cell \u001b[0;32mIn[25], line 2\u001b[0m\n\u001b[1;32m      1\u001b[0m class_extractor \u001b[38;5;241m=\u001b[39m ClassExtractor()\n\u001b[0;32m----> 2\u001b[0m \u001b[43mclass_extractor\u001b[49m\u001b[43m(\u001b[49m\u001b[43mfile_content\u001b[49m\u001b[38;5;241;43m=\u001b[39;49m\u001b[43mDSPY_SAMPLE_CODE_DIRTY\u001b[49m\u001b[43m)\u001b[49m\n",
      "File \u001b[0;32m~/dspy/dspy/primitives/program.py:26\u001b[0m, in \u001b[0;36mModule.__call__\u001b[0;34m(self, *args, **kwargs)\u001b[0m\n\u001b[1;32m     25\u001b[0m \u001b[38;5;28;01mdef\u001b[39;00m \u001b[38;5;21m__call__\u001b[39m(\u001b[38;5;28mself\u001b[39m, \u001b[38;5;241m*\u001b[39margs, \u001b[38;5;241m*\u001b[39m\u001b[38;5;241m*\u001b[39mkwargs):\n\u001b[0;32m---> 26\u001b[0m     \u001b[38;5;28;01mreturn\u001b[39;00m \u001b[38;5;28;43mself\u001b[39;49m\u001b[38;5;241;43m.\u001b[39;49m\u001b[43mforward\u001b[49m\u001b[43m(\u001b[49m\u001b[38;5;241;43m*\u001b[39;49m\u001b[43margs\u001b[49m\u001b[43m,\u001b[49m\u001b[43m \u001b[49m\u001b[38;5;241;43m*\u001b[39;49m\u001b[38;5;241;43m*\u001b[39;49m\u001b[43mkwargs\u001b[49m\u001b[43m)\u001b[49m\n",
      "Cell \u001b[0;32mIn[24], line 10\u001b[0m, in \u001b[0;36mClassExtractor.forward\u001b[0;34m(self, file_content)\u001b[0m\n\u001b[1;32m      9\u001b[0m \u001b[38;5;28;01mdef\u001b[39;00m \u001b[38;5;21mforward\u001b[39m(\u001b[38;5;28mself\u001b[39m, file_content: \u001b[38;5;28mstr\u001b[39m):\n\u001b[0;32m---> 10\u001b[0m     result \u001b[38;5;241m=\u001b[39m \u001b[38;5;28;43mself\u001b[39;49m\u001b[38;5;241;43m.\u001b[39;49m\u001b[43mextract_classes\u001b[49m\u001b[43m(\u001b[49m\u001b[43mfile_content\u001b[49m\u001b[38;5;241;43m=\u001b[39;49m\u001b[43mfile_content\u001b[49m\u001b[43m)\u001b[49m\n\u001b[1;32m     11\u001b[0m     \u001b[38;5;66;03m# 🔍 Suggest: Make sure we have extracted some classes\u001b[39;00m\n\u001b[1;32m     12\u001b[0m     dspy\u001b[38;5;241m.\u001b[39mSuggest(\u001b[38;5;28mlen\u001b[39m(result\u001b[38;5;241m.\u001b[39mclasses) \u001b[38;5;241m>\u001b[39m \u001b[38;5;241m0\u001b[39m, \u001b[38;5;124m\"\u001b[39m\u001b[38;5;124mNo classes found in the file content. Check your extraction logic.\u001b[39m\u001b[38;5;124m\"\u001b[39m)\n",
      "File \u001b[0;32m~/dspy/dspy/primitives/program.py:26\u001b[0m, in \u001b[0;36mModule.__call__\u001b[0;34m(self, *args, **kwargs)\u001b[0m\n\u001b[1;32m     25\u001b[0m \u001b[38;5;28;01mdef\u001b[39;00m \u001b[38;5;21m__call__\u001b[39m(\u001b[38;5;28mself\u001b[39m, \u001b[38;5;241m*\u001b[39margs, \u001b[38;5;241m*\u001b[39m\u001b[38;5;241m*\u001b[39mkwargs):\n\u001b[0;32m---> 26\u001b[0m     \u001b[38;5;28;01mreturn\u001b[39;00m \u001b[38;5;28;43mself\u001b[39;49m\u001b[38;5;241;43m.\u001b[39;49m\u001b[43mforward\u001b[49m\u001b[43m(\u001b[49m\u001b[38;5;241;43m*\u001b[39;49m\u001b[43margs\u001b[49m\u001b[43m,\u001b[49m\u001b[43m \u001b[49m\u001b[38;5;241;43m*\u001b[39;49m\u001b[38;5;241;43m*\u001b[39;49m\u001b[43mkwargs\u001b[49m\u001b[43m)\u001b[49m\n",
      "File \u001b[0;32m~/dspy/dspy/predict/avatar/avatar.py:171\u001b[0m, in \u001b[0;36mAvatar.forward\u001b[0;34m(self, **kwargs)\u001b[0m\n\u001b[1;32m    168\u001b[0m     \u001b[38;5;28;01mif\u001b[39;00m max_iters:\n\u001b[1;32m    169\u001b[0m         max_iters \u001b[38;5;241m-\u001b[39m\u001b[38;5;241m=\u001b[39m \u001b[38;5;241m1\u001b[39m\n\u001b[0;32m--> 171\u001b[0m final_answer \u001b[38;5;241m=\u001b[39m \u001b[38;5;28;43mself\u001b[39;49m\u001b[38;5;241;43m.\u001b[39;49m\u001b[43mactor\u001b[49m\u001b[43m(\u001b[49m\u001b[38;5;241;43m*\u001b[39;49m\u001b[38;5;241;43m*\u001b[39;49m\u001b[43margs\u001b[49m\u001b[43m)\u001b[49m\n\u001b[1;32m    172\u001b[0m \u001b[38;5;28mself\u001b[39m\u001b[38;5;241m.\u001b[39mactor \u001b[38;5;241m=\u001b[39m deepcopy(\u001b[38;5;28mself\u001b[39m\u001b[38;5;241m.\u001b[39mactor_clone)\n\u001b[1;32m    174\u001b[0m \u001b[38;5;28;01mreturn\u001b[39;00m dspy\u001b[38;5;241m.\u001b[39mPrediction(\n\u001b[1;32m    175\u001b[0m     \u001b[38;5;241m*\u001b[39m\u001b[38;5;241m*\u001b[39m{key: \u001b[38;5;28mgetattr\u001b[39m(final_answer, key) \u001b[38;5;28;01mfor\u001b[39;00m key \u001b[38;5;129;01min\u001b[39;00m \u001b[38;5;28mself\u001b[39m\u001b[38;5;241m.\u001b[39moutput_fields\u001b[38;5;241m.\u001b[39mkeys()},\n\u001b[1;32m    176\u001b[0m     actions\u001b[38;5;241m=\u001b[39maction_results,\n\u001b[1;32m    177\u001b[0m )\n",
      "File \u001b[0;32m~/dspy/dspy/primitives/program.py:26\u001b[0m, in \u001b[0;36mModule.__call__\u001b[0;34m(self, *args, **kwargs)\u001b[0m\n\u001b[1;32m     25\u001b[0m \u001b[38;5;28;01mdef\u001b[39;00m \u001b[38;5;21m__call__\u001b[39m(\u001b[38;5;28mself\u001b[39m, \u001b[38;5;241m*\u001b[39margs, \u001b[38;5;241m*\u001b[39m\u001b[38;5;241m*\u001b[39mkwargs):\n\u001b[0;32m---> 26\u001b[0m     \u001b[38;5;28;01mreturn\u001b[39;00m \u001b[38;5;28;43mself\u001b[39;49m\u001b[38;5;241;43m.\u001b[39;49m\u001b[43mforward\u001b[49m\u001b[43m(\u001b[49m\u001b[38;5;241;43m*\u001b[39;49m\u001b[43margs\u001b[49m\u001b[43m,\u001b[49m\u001b[43m \u001b[49m\u001b[38;5;241;43m*\u001b[39;49m\u001b[38;5;241;43m*\u001b[39;49m\u001b[43mkwargs\u001b[49m\u001b[43m)\u001b[49m\n",
      "File \u001b[0;32m~/dspy/dspy/functional/functional.py:369\u001b[0m, in \u001b[0;36mTypedPredictor.forward\u001b[0;34m(self, **kwargs)\u001b[0m\n\u001b[1;32m    364\u001b[0m     \u001b[38;5;28;01melse\u001b[39;00m:\n\u001b[1;32m    365\u001b[0m         \u001b[38;5;66;03m# If there are no errors, we return the parsed results\u001b[39;00m\n\u001b[1;32m    366\u001b[0m         \u001b[38;5;28;01mreturn\u001b[39;00m Prediction\u001b[38;5;241m.\u001b[39mfrom_completions(\n\u001b[1;32m    367\u001b[0m             {key: [r[key] \u001b[38;5;28;01mfor\u001b[39;00m r \u001b[38;5;129;01min\u001b[39;00m parsed_results] \u001b[38;5;28;01mfor\u001b[39;00m key \u001b[38;5;129;01min\u001b[39;00m signature\u001b[38;5;241m.\u001b[39moutput_fields},\n\u001b[1;32m    368\u001b[0m         )\n\u001b[0;32m--> 369\u001b[0m \u001b[38;5;28;01mraise\u001b[39;00m \u001b[38;5;167;01mValueError\u001b[39;00m(\n\u001b[1;32m    370\u001b[0m     \u001b[38;5;124m\"\u001b[39m\u001b[38;5;124mToo many retries trying to get the correct output format. \u001b[39m\u001b[38;5;124m\"\u001b[39m \u001b[38;5;241m+\u001b[39m \u001b[38;5;124m\"\u001b[39m\u001b[38;5;124mTry simplifying the requirements.\u001b[39m\u001b[38;5;124m\"\u001b[39m,\n\u001b[1;32m    371\u001b[0m     errors,\n\u001b[1;32m    372\u001b[0m )\n",
      "\u001b[0;31mValueError\u001b[0m: ('Too many retries trying to get the correct output format. Try simplifying the requirements.', {'classes': 'ValueError(\"Don\\'t write anything after the final json ```\")'})"
     ]
    }
   ],
   "source": [
    "class_extractor = ClassExtractor()\n",
    "class_extractor(file_content=DSPY_SAMPLE_CODE_DIRTY)"
   ]
  },
  {
   "cell_type": "code",
   "execution_count": null,
   "metadata": {},
   "outputs": [],
   "source": []
  }
 ],
 "metadata": {
  "kernelspec": {
   "display_name": "pz-kernel",
   "language": "python",
   "name": "pz-kernel"
  },
  "language_info": {
   "codemirror_mode": {
    "name": "ipython",
    "version": 3
   },
   "file_extension": ".py",
   "mimetype": "text/x-python",
   "name": "python",
   "nbconvert_exporter": "python",
   "pygments_lexer": "ipython3",
   "version": "3.12.4"
  }
 },
 "nbformat": 4,
 "nbformat_minor": 2
}
